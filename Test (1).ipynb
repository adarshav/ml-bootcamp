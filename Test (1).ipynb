{
 "cells": [
  {
   "cell_type": "code",
   "execution_count": 1,
   "id": "128caa72-ff3e-4080-a735-7d7a6428b0b3",
   "metadata": {},
   "outputs": [
    {
     "name": "stdout",
     "output_type": "stream",
     "text": [
      "30\n"
     ]
    }
   ],
   "source": [
    "a=10;\n",
    "b=20;\n",
    "c=a+b;\n",
    "print(c);"
   ]
  },
  {
   "cell_type": "code",
   "execution_count": 2,
   "id": "e93a0238-3fc5-468f-99e1-d918e4a87c6a",
   "metadata": {},
   "outputs": [],
   "source": [
    "def test():\n",
    "    a=10;\n",
    "    b=2;\n",
    "    c=a+b;\n",
    "    print(c);"
   ]
  },
  {
   "cell_type": "code",
   "execution_count": 3,
   "id": "d20b0abf-5277-4b1d-86ab-88aa712912ad",
   "metadata": {},
   "outputs": [
    {
     "ename": "TypeError",
     "evalue": "test() takes 0 positional arguments but 2 were given",
     "output_type": "error",
     "traceback": [
      "\u001b[0;31m---------------------------------------------------------------------------\u001b[0m",
      "\u001b[0;31mTypeError\u001b[0m                                 Traceback (most recent call last)",
      "Cell \u001b[0;32mIn [3], line 1\u001b[0m\n\u001b[0;32m----> 1\u001b[0m \u001b[43mtest\u001b[49m\u001b[43m(\u001b[49m\u001b[38;5;241;43m10\u001b[39;49m\u001b[43m,\u001b[49m\u001b[38;5;241;43m2\u001b[39;49m\u001b[43m)\u001b[49m\n",
      "\u001b[0;31mTypeError\u001b[0m: test() takes 0 positional arguments but 2 were given"
     ]
    }
   ],
   "source": [
    "test(10,2);\n"
   ]
  },
  {
   "cell_type": "code",
   "execution_count": 4,
   "id": "af6f78d1-1d40-4ad8-8f67-4e40e72d8f79",
   "metadata": {},
   "outputs": [
    {
     "name": "stdout",
     "output_type": "stream",
     "text": [
      "12\n"
     ]
    }
   ],
   "source": [
    "test();\n"
   ]
  },
  {
   "cell_type": "code",
   "execution_count": 5,
   "id": "ffe6ef2d-f15b-4467-8725-64e8fd279e6f",
   "metadata": {},
   "outputs": [
    {
     "name": "stdout",
     "output_type": "stream",
     "text": [
      "10\n"
     ]
    }
   ],
   "source": [
    "print(a)"
   ]
  },
  {
   "cell_type": "code",
   "execution_count": 6,
   "id": "b0df4b07-7e06-4bf7-88b1-5a7325d8ea37",
   "metadata": {},
   "outputs": [
    {
     "name": "stdout",
     "output_type": "stream",
     "text": [
      "10\n",
      "20\n"
     ]
    }
   ],
   "source": [
    "print(a)\n",
    "print(b)"
   ]
  },
  {
   "cell_type": "code",
   "execution_count": 7,
   "id": "86508ccb-53d9-478b-ba3c-a84126c6b232",
   "metadata": {},
   "outputs": [
    {
     "name": "stdout",
     "output_type": "stream",
     "text": [
      "1020\n"
     ]
    }
   ],
   "source": [
    "print(a,end='')\n",
    "print(b)"
   ]
  },
  {
   "cell_type": "markdown",
   "id": "72161ca3-6ab9-45ea-a7de-9b4ba44af035",
   "metadata": {},
   "source": [
    "/t --> tab or 4 white space character. \n",
    "/b --> Backspace character\n",
    "#sep - \n"
   ]
  },
  {
   "cell_type": "markdown",
   "id": "48782665-b84b-4227-a81b-f6e29ab0dc1d",
   "metadata": {},
   "source": [
    "#SEP"
   ]
  },
  {
   "cell_type": "code",
   "execution_count": 8,
   "id": "32b8305d-3255-4cbb-8723-65e57b52d062",
   "metadata": {},
   "outputs": [
    {
     "ename": "SyntaxError",
     "evalue": "invalid syntax (3506180486.py, line 1)",
     "output_type": "error",
     "traceback": [
      "\u001b[0;36m  Cell \u001b[0;32mIn [8], line 1\u001b[0;36m\u001b[0m\n\u001b[0;31m    it is an argument used in prin function called Seperator\u001b[0m\n\u001b[0m             ^\u001b[0m\n\u001b[0;31mSyntaxError\u001b[0m\u001b[0;31m:\u001b[0m invalid syntax\n"
     ]
    }
   ],
   "source": [
    "it is an argument used in print function called Seperator which has value of one white space.\n"
   ]
  },
  {
   "cell_type": "code",
   "execution_count": 9,
   "id": "d48dc6e0-ee85-4fbc-9bf6-d0a5d3e5f0ef",
   "metadata": {},
   "outputs": [
    {
     "name": "stdout",
     "output_type": "stream",
     "text": [
      "10 20\n"
     ]
    }
   ],
   "source": [
    "print(a,b);\n"
   ]
  },
  {
   "cell_type": "code",
   "execution_count": 10,
   "id": "1d1f5571-b1fc-4f7d-a90a-8d15863d90b1",
   "metadata": {},
   "outputs": [
    {
     "name": "stdout",
     "output_type": "stream",
     "text": [
      "1020\n"
     ]
    }
   ],
   "source": [
    "print(a,b,sep=\"\")\n"
   ]
  },
  {
   "cell_type": "code",
   "execution_count": 11,
   "id": "f10e556f-8175-4f72-b420-f41b28db759b",
   "metadata": {},
   "outputs": [
    {
     "name": "stdout",
     "output_type": "stream",
     "text": [
      "10^20\n"
     ]
    }
   ],
   "source": [
    "print(a,b,sep=\"^\");\n"
   ]
  },
  {
   "cell_type": "markdown",
   "id": "d505c19d-8f63-4827-a9f1-a4a2ae3c5d26",
   "metadata": {},
   "source": [
    "# Print Function has two arguments end which has value of newline(\\n) and another argument called SEP which has value one white space.\n"
   ]
  },
  {
   "cell_type": "markdown",
   "id": "28462943-173c-4f31-972a-ede5d7515352",
   "metadata": {},
   "source": [
    "#Input Function\n",
    "#Takes Input from user"
   ]
  },
  {
   "cell_type": "code",
   "execution_count": 12,
   "id": "04269656-c7a2-4367-a52e-9fe7f1cdba10",
   "metadata": {},
   "outputs": [
    {
     "name": "stdin",
     "output_type": "stream",
     "text": [
      "Enter ur name Adarsha\n"
     ]
    }
   ],
   "source": [
    "input(\"Enter ur name\");\n"
   ]
  },
  {
   "cell_type": "markdown",
   "id": "9daeca49-1216-4f78-97c4-eadf45f40767",
   "metadata": {},
   "source": [
    "Day2 Python it is about Data types"
   ]
  },
  {
   "cell_type": "markdown",
   "id": "e0bb1f61-5995-405c-a520-8587519c113d",
   "metadata": {},
   "source": [
    "Datatype means the type of data or kind of type the variable it holds"
   ]
  },
  {
   "cell_type": "markdown",
   "id": "438a690e-541c-44f6-97e0-a23d34b41a1d",
   "metadata": {},
   "source": []
  },
  {
   "cell_type": "code",
   "execution_count": 2,
   "id": "0e517c9f-48be-46c5-b6d8-4588dfff6e27",
   "metadata": {},
   "outputs": [],
   "source": [
    "name=\"Adarsha\"\n",
    "age=26"
   ]
  },
  {
   "cell_type": "markdown",
   "id": "ebe0c657-0920-4849-9184-d7e5eaf2ce50",
   "metadata": {},
   "source": [
    "#Type is a built in function which is used to know the type of data"
   ]
  },
  {
   "cell_type": "code",
   "execution_count": 4,
   "id": "c43ec8f7-8b01-4a8b-8712-2a5e4a517130",
   "metadata": {},
   "outputs": [
    {
     "data": {
      "text/plain": [
       "str"
      ]
     },
     "execution_count": 4,
     "metadata": {},
     "output_type": "execute_result"
    }
   ],
   "source": [
    "type(name)\n"
   ]
  },
  {
   "cell_type": "code",
   "execution_count": 5,
   "id": "c384b849-d983-4eff-a81a-1a9e18372277",
   "metadata": {},
   "outputs": [
    {
     "data": {
      "text/plain": [
       "int"
      ]
     },
     "execution_count": 5,
     "metadata": {},
     "output_type": "execute_result"
    }
   ],
   "source": [
    "type(age)"
   ]
  },
  {
   "cell_type": "code",
   "execution_count": 6,
   "id": "92eba981-0625-47cd-8523-0fbdd9500e9d",
   "metadata": {},
   "outputs": [],
   "source": [
    "age=\"Twenty Six\""
   ]
  },
  {
   "cell_type": "code",
   "execution_count": 7,
   "id": "4ef33337-9b27-4459-b1e0-2dc1aa12aadb",
   "metadata": {},
   "outputs": [
    {
     "data": {
      "text/plain": [
       "str"
      ]
     },
     "execution_count": 7,
     "metadata": {},
     "output_type": "execute_result"
    }
   ],
   "source": [
    "type(age)"
   ]
  },
  {
   "cell_type": "code",
   "execution_count": 8,
   "id": "9b237d27-0901-4bbf-8b62-4e4b8f3583c5",
   "metadata": {},
   "outputs": [
    {
     "ename": "NameError",
     "evalue": "name 'ninety' is not defined",
     "output_type": "error",
     "traceback": [
      "\u001b[0;31m---------------------------------------------------------------------------\u001b[0m",
      "\u001b[0;31mNameError\u001b[0m                                 Traceback (most recent call last)",
      "Cell \u001b[0;32mIn [8], line 1\u001b[0m\n\u001b[0;32m----> 1\u001b[0m address\u001b[38;5;241m=\u001b[39m\u001b[43mninety\u001b[49m\n",
      "\u001b[0;31mNameError\u001b[0m: name 'ninety' is not defined"
     ]
    }
   ],
   "source": [
    "address=ninety"
   ]
  },
  {
   "cell_type": "code",
   "execution_count": 9,
   "id": "2c1b6b61-a4e2-4808-bdc8-8cacc90c1c4c",
   "metadata": {},
   "outputs": [
    {
     "data": {
      "text/plain": [
       "'Twenty Six'"
      ]
     },
     "execution_count": 9,
     "metadata": {},
     "output_type": "execute_result"
    }
   ],
   "source": [
    "age"
   ]
  },
  {
   "cell_type": "code",
   "execution_count": 10,
   "id": "c1060eec-9a1d-434e-89e3-c286929cbc73",
   "metadata": {},
   "outputs": [],
   "source": [
    "y=\"let's Learn \\\"Python\\\"\""
   ]
  },
  {
   "cell_type": "code",
   "execution_count": 11,
   "id": "34193391-32bc-4760-9ecf-d14ad691b2ed",
   "metadata": {},
   "outputs": [
    {
     "data": {
      "text/plain": [
       "'let\\'s Learn \"Python\"'"
      ]
     },
     "execution_count": 11,
     "metadata": {},
     "output_type": "execute_result"
    }
   ],
   "source": [
    "y\n"
   ]
  },
  {
   "cell_type": "code",
   "execution_count": null,
   "id": "2f51c185-c7f9-4a3b-a612-2749d30680a1",
   "metadata": {},
   "outputs": [],
   "source": [
    "y=\"Let\\'s learn \\\"Python\\\"\""
   ]
  },
  {
   "cell_type": "code",
   "execution_count": null,
   "id": "0d72338c-d8e3-40d3-8d51-66197d429fde",
   "metadata": {},
   "outputs": [],
   "source": [
    "y"
   ]
  },
  {
   "cell_type": "code",
   "execution_count": null,
   "id": "2ae9c1d0-4073-40b4-b1c7-785fbc034842",
   "metadata": {},
   "outputs": [],
   "source": []
  },
  {
   "cell_type": "code",
   "execution_count": null,
   "id": "3d7a39dc-f1aa-43e6-92b9-93e335542aa2",
   "metadata": {},
   "outputs": [],
   "source": [
    "y"
   ]
  },
  {
   "cell_type": "code",
   "execution_count": null,
   "id": "16b1016f-222c-4e73-9626-1f5fc830c641",
   "metadata": {},
   "outputs": [],
   "source": [
    "y=\"\"\"Let's Learn \"PYTHON\" \"\"\""
   ]
  },
  {
   "cell_type": "code",
   "execution_count": null,
   "id": "177612fa-410d-47a5-b3c3-f743bd772350",
   "metadata": {},
   "outputs": [],
   "source": [
    "y"
   ]
  },
  {
   "cell_type": "code",
   "execution_count": null,
   "id": "0cbe007e-52ca-4fbd-9d9f-ce364d3c87a2",
   "metadata": {},
   "outputs": [],
   "source": [
    "z=\"\"\"Let's learn \"Python\" \"\"\""
   ]
  },
  {
   "cell_type": "code",
   "execution_count": null,
   "id": "f5e42f5a-1097-4781-a113-96a4bae9b7a7",
   "metadata": {},
   "outputs": [],
   "source": [
    "z"
   ]
  },
  {
   "cell_type": "code",
   "execution_count": null,
   "id": "e15f92ba-4343-463e-8ea9-77fd30d0147d",
   "metadata": {},
   "outputs": [],
   "source": []
  },
  {
   "cell_type": "code",
   "execution_count": null,
   "id": "de0f3faa-a81c-4860-ad68-957d5e82ba5f",
   "metadata": {},
   "outputs": [],
   "source": [
    "z"
   ]
  },
  {
   "cell_type": "code",
   "execution_count": null,
   "id": "c5309da6-b18d-4b71-b396-176d6152ddb3",
   "metadata": {},
   "outputs": [],
   "source": [
    "wq = 'let\\'s learn \"python\" '"
   ]
  },
  {
   "cell_type": "code",
   "execution_count": null,
   "id": "79c382b1-fcf4-41a5-96ac-b1d7cfd61404",
   "metadata": {},
   "outputs": [],
   "source": [
    "wq"
   ]
  },
  {
   "cell_type": "code",
   "execution_count": null,
   "id": "ad3fd104-b653-4c52-af1e-069b4161223f",
   "metadata": {},
   "outputs": [],
   "source": [
    "print(wq)"
   ]
  },
  {
   "cell_type": "code",
   "execution_count": 12,
   "id": "012bf014-6a68-4807-b6cb-c611f8198b3f",
   "metadata": {},
   "outputs": [],
   "source": [
    "my_string=\"\"\" my \n",
    "            name is\n",
    "                adarsha\"\"\""
   ]
  },
  {
   "cell_type": "code",
   "execution_count": 13,
   "id": "3c12344a-6afe-44d5-bc02-52724203794a",
   "metadata": {},
   "outputs": [
    {
     "name": "stdout",
     "output_type": "stream",
     "text": [
      " my \n",
      "            name is\n",
      "                adarsha\n"
     ]
    }
   ],
   "source": [
    "print(my_string)"
   ]
  },
  {
   "cell_type": "code",
   "execution_count": 14,
   "id": "48bc5726-565e-440d-addf-4e967cc90099",
   "metadata": {},
   "outputs": [
    {
     "ename": "NameError",
     "evalue": "name 'wq' is not defined",
     "output_type": "error",
     "traceback": [
      "\u001b[0;31m---------------------------------------------------------------------------\u001b[0m",
      "\u001b[0;31mNameError\u001b[0m                                 Traceback (most recent call last)",
      "Cell \u001b[0;32mIn [14], line 1\u001b[0m\n\u001b[0;32m----> 1\u001b[0m \u001b[43mwq\u001b[49m\n",
      "\u001b[0;31mNameError\u001b[0m: name 'wq' is not defined"
     ]
    }
   ],
   "source": [
    "wq"
   ]
  },
  {
   "cell_type": "code",
   "execution_count": 15,
   "id": "a4fdf7b8-dc7d-4b51-be64-aaea4464f5b6",
   "metadata": {},
   "outputs": [],
   "source": [
    "ex='let\\'s learn \"python\"'"
   ]
  },
  {
   "cell_type": "code",
   "execution_count": 16,
   "id": "3d0a8d98-63fc-414c-9777-816d998b8fde",
   "metadata": {},
   "outputs": [
    {
     "data": {
      "text/plain": [
       "'let\\'s learn \"python\"'"
      ]
     },
     "execution_count": 16,
     "metadata": {},
     "output_type": "execute_result"
    }
   ],
   "source": [
    "ex"
   ]
  },
  {
   "cell_type": "code",
   "execution_count": 17,
   "id": "872a6578-aa30-4175-b242-f22fc78350d6",
   "metadata": {},
   "outputs": [
    {
     "name": "stdout",
     "output_type": "stream",
     "text": [
      "let's learn \"python\"\n"
     ]
    }
   ],
   "source": [
    "print(ex)\n"
   ]
  },
  {
   "cell_type": "code",
   "execution_count": 18,
   "id": "d77439d2-6223-4470-829c-c5c7973224d5",
   "metadata": {},
   "outputs": [],
   "source": [
    "a=100;"
   ]
  },
  {
   "cell_type": "markdown",
   "id": "3208e709-0ad4-4829-b66d-1d95ddfd0515",
   "metadata": {},
   "source": [
    "#Data conversions"
   ]
  },
  {
   "cell_type": "code",
   "execution_count": 19,
   "id": "895f7e4f-ccb1-494d-b517-88cafba2d188",
   "metadata": {},
   "outputs": [],
   "source": [
    "a=100;"
   ]
  },
  {
   "cell_type": "code",
   "execution_count": 20,
   "id": "8f99725a-caf5-443e-ac07-cf38672ba807",
   "metadata": {},
   "outputs": [],
   "source": [
    "a='10'\n",
    "b='20'"
   ]
  },
  {
   "cell_type": "code",
   "execution_count": 21,
   "id": "2c6c80c6-a595-4954-9dca-d8a139d11d7e",
   "metadata": {},
   "outputs": [
    {
     "data": {
      "text/plain": [
       "'1020'"
      ]
     },
     "execution_count": 21,
     "metadata": {},
     "output_type": "execute_result"
    }
   ],
   "source": [
    "a+b"
   ]
  },
  {
   "cell_type": "code",
   "execution_count": 23,
   "id": "5d5ea464-8446-4f2f-97fe-c81cc43e82d6",
   "metadata": {},
   "outputs": [],
   "source": [
    "c=int(a)\n",
    "d=int(b)\n"
   ]
  },
  {
   "cell_type": "code",
   "execution_count": 26,
   "id": "ea51ba57-b70b-4110-917e-e42ad3d810ce",
   "metadata": {},
   "outputs": [],
   "source": [
    "e=c+d"
   ]
  },
  {
   "cell_type": "code",
   "execution_count": 27,
   "id": "f8603c7e-55c7-4e53-95da-6c100ef596f6",
   "metadata": {},
   "outputs": [
    {
     "name": "stdout",
     "output_type": "stream",
     "text": [
      "30\n"
     ]
    }
   ],
   "source": [
    "print(e)"
   ]
  },
  {
   "cell_type": "code",
   "execution_count": 28,
   "id": "3ef5e667-d654-4eda-be3a-7df16f7edfa5",
   "metadata": {},
   "outputs": [
    {
     "data": {
      "text/plain": [
       "int"
      ]
     },
     "execution_count": 28,
     "metadata": {},
     "output_type": "execute_result"
    }
   ],
   "source": [
    "type(e)"
   ]
  },
  {
   "cell_type": "code",
   "execution_count": 29,
   "id": "cc1a7198-3f97-4cb4-8e81-61b0a54a75cb",
   "metadata": {},
   "outputs": [],
   "source": [
    "#take two input from user and subtract it"
   ]
  },
  {
   "cell_type": "code",
   "execution_count": 30,
   "id": "77d4dbf3-dbad-4617-a65b-2caa616aa84e",
   "metadata": {},
   "outputs": [
    {
     "name": "stdin",
     "output_type": "stream",
     "text": [
      "Enter a number1 43\n"
     ]
    }
   ],
   "source": [
    "num=input(\"Enter a number1\")"
   ]
  },
  {
   "cell_type": "raw",
   "id": "92c5933b-3c42-40b2-b65f-3b6c6875008a",
   "metadata": {},
   "source": [
    "num2=input(\"Enter a number 2\")"
   ]
  },
  {
   "cell_type": "code",
   "execution_count": 32,
   "id": "ddce8c1d-837a-465f-8b79-09531223f666",
   "metadata": {},
   "outputs": [
    {
     "data": {
      "text/plain": [
       "str"
      ]
     },
     "execution_count": 32,
     "metadata": {},
     "output_type": "execute_result"
    }
   ],
   "source": [
    "type(num)"
   ]
  },
  {
   "cell_type": "code",
   "execution_count": 33,
   "id": "805a8c4c-a0fa-4c15-8295-94204d8f70a9",
   "metadata": {},
   "outputs": [],
   "source": [
    "num_str = int(num)\n",
    "num2_str = int(num2)"
   ]
  },
  {
   "cell_type": "code",
   "execution_count": 34,
   "id": "da4d8d4b-0d70-46ac-9015-4b17645c034e",
   "metadata": {},
   "outputs": [],
   "source": [
    "result = num_str-num2_str"
   ]
  },
  {
   "cell_type": "code",
   "execution_count": 35,
   "id": "54c46389-034d-4103-91ad-feb4392aff5f",
   "metadata": {},
   "outputs": [
    {
     "name": "stdout",
     "output_type": "stream",
     "text": [
      "13\n"
     ]
    }
   ],
   "source": [
    "print(result)"
   ]
  },
  {
   "cell_type": "code",
   "execution_count": 36,
   "id": "e711aaa3-599d-4b08-8ede-f3bb9141685b",
   "metadata": {},
   "outputs": [
    {
     "data": {
      "text/plain": [
       "int"
      ]
     },
     "execution_count": 36,
     "metadata": {},
     "output_type": "execute_result"
    }
   ],
   "source": [
    "type(result)"
   ]
  },
  {
   "cell_type": "markdown",
   "id": "8a5880c1-394b-4f2a-9023-4ee25c1e44a3",
   "metadata": {},
   "source": [
    "#Learning about STRING Datatype"
   ]
  },
  {
   "cell_type": "code",
   "execution_count": 1,
   "id": "f76d09ac-1ffe-4ba0-ace5-14bf72c599da",
   "metadata": {},
   "outputs": [],
   "source": [
    "#Python uses index in strings which means "
   ]
  },
  {
   "cell_type": "code",
   "execution_count": 2,
   "id": "e13ed0e4-1864-42fd-b9f0-37c17b1b6277",
   "metadata": {},
   "outputs": [
    {
     "ename": "NameError",
     "evalue": "name 'adarsha' is not defined",
     "output_type": "error",
     "traceback": [
      "\u001b[0;31m---------------------------------------------------------------------------\u001b[0m",
      "\u001b[0;31mNameError\u001b[0m                                 Traceback (most recent call last)",
      "Cell \u001b[0;32mIn [2], line 1\u001b[0m\n\u001b[0;32m----> 1\u001b[0m a\u001b[38;5;241m=\u001b[39m\u001b[43madarsha\u001b[49m\n",
      "\u001b[0;31mNameError\u001b[0m: name 'adarsha' is not defined"
     ]
    }
   ],
   "source": [
    "a=adarsha"
   ]
  },
  {
   "cell_type": "code",
   "execution_count": 3,
   "id": "d7f8406e-9e64-4c58-8d75-dd81ee2aa34d",
   "metadata": {},
   "outputs": [],
   "source": [
    "name=\"Adarsha\""
   ]
  },
  {
   "cell_type": "code",
   "execution_count": 4,
   "id": "bcad1090-2a28-43b4-8319-addd56f3dd09",
   "metadata": {},
   "outputs": [
    {
     "data": {
      "text/plain": [
       "'A'"
      ]
     },
     "execution_count": 4,
     "metadata": {},
     "output_type": "execute_result"
    }
   ],
   "source": [
    "name[0]"
   ]
  },
  {
   "cell_type": "code",
   "execution_count": 5,
   "id": "f6d5e086-f4ed-4362-a5ff-53c5fc1b8b17",
   "metadata": {},
   "outputs": [],
   "source": [
    "#In Indexing there are two types of indexing Forward Indexing and backward Indexing Above is the example for Forward Indexing."
   ]
  },
  {
   "cell_type": "code",
   "execution_count": 6,
   "id": "26df64ad-7f5c-4c8e-a444-362190270070",
   "metadata": {},
   "outputs": [
    {
     "data": {
      "text/plain": [
       "'a'"
      ]
     },
     "execution_count": 6,
     "metadata": {},
     "output_type": "execute_result"
    }
   ],
   "source": [
    "name[-1]"
   ]
  },
  {
   "cell_type": "markdown",
   "id": "51915d89-1156-4cdf-9134-07f760d4beca",
   "metadata": {},
   "source": []
  },
  {
   "cell_type": "code",
   "execution_count": 7,
   "id": "de26e790-4fab-4cb0-95c3-a4c16780aea5",
   "metadata": {},
   "outputs": [
    {
     "data": {
      "text/plain": [
       "'a'"
      ]
     },
     "execution_count": 7,
     "metadata": {},
     "output_type": "execute_result"
    }
   ],
   "source": [
    "name[6]"
   ]
  },
  {
   "cell_type": "code",
   "execution_count": 8,
   "id": "b498b39a-37a6-4fae-8c74-15fd291ab8e9",
   "metadata": {},
   "outputs": [],
   "source": [
    "#To access last letter 'a' in forward Indexing we can access in name[6] where as in Backward Indexing it cab be accessed like name[-1]"
   ]
  },
  {
   "cell_type": "code",
   "execution_count": 9,
   "id": "3b13cbb4-7e18-4ff4-8455-648bbbf054df",
   "metadata": {},
   "outputs": [
    {
     "data": {
      "text/plain": [
       "7"
      ]
     },
     "execution_count": 9,
     "metadata": {},
     "output_type": "execute_result"
    }
   ],
   "source": [
    "len(name)"
   ]
  },
  {
   "cell_type": "code",
   "execution_count": 10,
   "id": "92426ea5-0300-43e1-af1b-c4c7e9cdd682",
   "metadata": {},
   "outputs": [
    {
     "data": {
      "text/plain": [
       "6"
      ]
     },
     "execution_count": 10,
     "metadata": {},
     "output_type": "execute_result"
    }
   ],
   "source": [
    "len(name)-1"
   ]
  },
  {
   "cell_type": "code",
   "execution_count": 11,
   "id": "1db99447-e122-48dd-84d6-34a8c55cc8a4",
   "metadata": {},
   "outputs": [],
   "source": [
    "#len is a builtin function to find the length of the string."
   ]
  },
  {
   "cell_type": "code",
   "execution_count": 12,
   "id": "e478e1fe-92f1-4f2c-8f75-4f78907f05b4",
   "metadata": {},
   "outputs": [],
   "source": [
    "#concatenation"
   ]
  },
  {
   "cell_type": "code",
   "execution_count": 13,
   "id": "9c68925c-3ce3-400e-981f-2788aa220516",
   "metadata": {},
   "outputs": [],
   "source": [
    "name = \"Adarsha\"\n",
    "age = 26"
   ]
  },
  {
   "cell_type": "code",
   "execution_count": 15,
   "id": "68e6f5cc-d30c-4945-8e5a-e9ece7455c19",
   "metadata": {},
   "outputs": [
    {
     "ename": "SyntaxError",
     "evalue": "unterminated string literal (detected at line 1) (1927495577.py, line 1)",
     "output_type": "error",
     "traceback": [
      "\u001b[0;36m  Cell \u001b[0;32mIn [15], line 1\u001b[0;36m\u001b[0m\n\u001b[0;31m    sentence = \"My name is \"+ name + \" and my age is \"+ age \"\u001b[0m\n\u001b[0m                                                            ^\u001b[0m\n\u001b[0;31mSyntaxError\u001b[0m\u001b[0;31m:\u001b[0m unterminated string literal (detected at line 1)\n"
     ]
    }
   ],
   "source": [
    "sentence = \"My name is \"+ name + \" and my age is \"+ age \""
   ]
  },
  {
   "cell_type": "code",
   "execution_count": 16,
   "id": "87dd8f2f-3972-493d-8606-7f81ba14665c",
   "metadata": {},
   "outputs": [
    {
     "data": {
      "text/plain": [
       "6"
      ]
     },
     "execution_count": 16,
     "metadata": {},
     "output_type": "execute_result"
    }
   ],
   "source": [
    "a=\"aashish\"\n",
    "len(a)-1"
   ]
  },
  {
   "cell_type": "code",
   "execution_count": 17,
   "id": "2449cb18-cdd4-4a87-a2e1-409f06d55416",
   "metadata": {},
   "outputs": [
    {
     "data": {
      "text/plain": [
       "'shi'"
      ]
     },
     "execution_count": 17,
     "metadata": {},
     "output_type": "execute_result"
    }
   ],
   "source": [
    "a[2:5]"
   ]
  },
  {
   "cell_type": "code",
   "execution_count": 19,
   "id": "792ff29b-b2f7-4e5c-8bd9-069d2d279901",
   "metadata": {},
   "outputs": [
    {
     "data": {
      "text/plain": [
       "'ish'"
      ]
     },
     "execution_count": 19,
     "metadata": {},
     "output_type": "execute_result"
    }
   ],
   "source": [
    "a[4:9]"
   ]
  },
  {
   "cell_type": "code",
   "execution_count": 20,
   "id": "8d700e9e-b4ed-4858-b6f3-60548cb2685a",
   "metadata": {},
   "outputs": [
    {
     "data": {
      "text/plain": [
       "''"
      ]
     },
     "execution_count": 20,
     "metadata": {},
     "output_type": "execute_result"
    }
   ],
   "source": [
    "a[2:2]"
   ]
  },
  {
   "cell_type": "code",
   "execution_count": 21,
   "id": "c2674753-5b59-43e5-ac00-8a3891c4fb28",
   "metadata": {},
   "outputs": [
    {
     "data": {
      "text/plain": [
       "'sh'"
      ]
     },
     "execution_count": 21,
     "metadata": {},
     "output_type": "execute_result"
    }
   ],
   "source": [
    "a[2:-3]"
   ]
  },
  {
   "cell_type": "code",
   "execution_count": 22,
   "id": "1aedfe40-831b-4f07-aea5-d92cc515cbb0",
   "metadata": {},
   "outputs": [
    {
     "data": {
      "text/plain": [
       "''"
      ]
     },
     "execution_count": 22,
     "metadata": {},
     "output_type": "execute_result"
    }
   ],
   "source": [
    "a[7:10]"
   ]
  },
  {
   "cell_type": "code",
   "execution_count": 23,
   "id": "f47ecd69-2ae1-497f-ae3e-298fae9d2b03",
   "metadata": {},
   "outputs": [
    {
     "data": {
      "text/plain": [
       "'aashi'"
      ]
     },
     "execution_count": 23,
     "metadata": {},
     "output_type": "execute_result"
    }
   ],
   "source": [
    "a[:5]"
   ]
  },
  {
   "cell_type": "code",
   "execution_count": 24,
   "id": "351b7cfe-7042-430f-ac9c-5f80fb9e3ef2",
   "metadata": {},
   "outputs": [
    {
     "data": {
      "text/plain": [
       "'aashish'"
      ]
     },
     "execution_count": 24,
     "metadata": {},
     "output_type": "execute_result"
    }
   ],
   "source": [
    "a[:]"
   ]
  },
  {
   "cell_type": "code",
   "execution_count": 25,
   "id": "c8083c26-d835-4553-91de-b5e514334621",
   "metadata": {},
   "outputs": [
    {
     "ename": "SyntaxError",
     "evalue": "invalid syntax (1145722274.py, line 1)",
     "output_type": "error",
     "traceback": [
      "\u001b[0;36m  Cell \u001b[0;32mIn [25], line 1\u001b[0;36m\u001b[0m\n\u001b[0;31m    a[]\u001b[0m\n\u001b[0m      ^\u001b[0m\n\u001b[0;31mSyntaxError\u001b[0m\u001b[0;31m:\u001b[0m invalid syntax\n"
     ]
    }
   ],
   "source": [
    "a[]"
   ]
  },
  {
   "cell_type": "code",
   "execution_count": 26,
   "id": "641867bc-fa24-4991-8312-a0cf93b06d52",
   "metadata": {},
   "outputs": [],
   "source": [
    "#step is a another argument in SLICE which steps by the number mentioned "
   ]
  },
  {
   "cell_type": "code",
   "execution_count": 27,
   "id": "2f8d9407-aa1c-4129-a4a3-06fc323d6bac",
   "metadata": {},
   "outputs": [
    {
     "data": {
      "text/plain": [
       "'a'"
      ]
     },
     "execution_count": 27,
     "metadata": {},
     "output_type": "execute_result"
    }
   ],
   "source": [
    "a[1:3:2]"
   ]
  },
  {
   "cell_type": "code",
   "execution_count": 28,
   "id": "c9f2d2e9-54ae-4ec9-bdba-cbc33a174e8f",
   "metadata": {},
   "outputs": [
    {
     "name": "stdout",
     "output_type": "stream",
     "text": [
      "aashish\n"
     ]
    }
   ],
   "source": [
    "print(a)"
   ]
  },
  {
   "cell_type": "code",
   "execution_count": 29,
   "id": "275cd5d6-b83e-4483-bc37-b28e0ea74789",
   "metadata": {},
   "outputs": [],
   "source": [
    "#how to reverse the string"
   ]
  },
  {
   "cell_type": "code",
   "execution_count": 30,
   "id": "bb7b1254-2b89-4165-bffd-9fcc38d34265",
   "metadata": {},
   "outputs": [
    {
     "name": "stdout",
     "output_type": "stream",
     "text": [
      "hsihsaa\n"
     ]
    }
   ],
   "source": [
    "print(a[::-1])"
   ]
  },
  {
   "cell_type": "code",
   "execution_count": 31,
   "id": "ff97dc4f-2e0a-40d2-ac2c-9239ef082041",
   "metadata": {},
   "outputs": [
    {
     "name": "stdout",
     "output_type": "stream",
     "text": [
      "ael rof ereh era ew\n"
     ]
    }
   ],
   "source": [
    "a=\"we are here for learning data science\"\n",
    "print(a[18::-1])"
   ]
  },
  {
   "cell_type": "code",
   "execution_count": 32,
   "id": "e0a29ce6-4b44-48ad-9b27-19f40506b04b",
   "metadata": {},
   "outputs": [
    {
     "data": {
      "text/plain": [
       "'a'"
      ]
     },
     "execution_count": 32,
     "metadata": {},
     "output_type": "execute_result"
    }
   ],
   "source": [
    "a[18]"
   ]
  },
  {
   "cell_type": "code",
   "execution_count": 33,
   "id": "8409ed4c-603f-4f59-928e-c6b7ccc21593",
   "metadata": {},
   "outputs": [
    {
     "data": {
      "text/plain": [
       "'arning data science'"
      ]
     },
     "execution_count": 33,
     "metadata": {},
     "output_type": "execute_result"
    }
   ],
   "source": [
    "a[18:]"
   ]
  },
  {
   "cell_type": "code",
   "execution_count": 34,
   "id": "7b7db4e2-f4e7-4b2c-ad91-df7ae84563c6",
   "metadata": {},
   "outputs": [],
   "source": [
    "#WAP to accept two num from user and display sum"
   ]
  },
  {
   "cell_type": "code",
   "execution_count": 39,
   "id": "3f452510-5ec4-4b9d-ae1c-ca44373ebd87",
   "metadata": {},
   "outputs": [
    {
     "name": "stdin",
     "output_type": "stream",
     "text": [
      "Enter thee first Number 12\n",
      "Enter the Second Number 8\n"
     ]
    },
    {
     "name": "stdout",
     "output_type": "stream",
     "text": [
      "the sum of the two numbers is20\n"
     ]
    }
   ],
   "source": [
    "num1= int(input(\"Enter thee first Number\"))\n",
    "num2= int(input(\"Enter the Second Number\"))\n",
    "display = num1+num2\n",
    "print(\"the sum of the two numbers is\"+str(display)) #display variable has been converted to string because concatenation happens only betwen strings"
   ]
  },
  {
   "cell_type": "markdown",
   "id": "e521a33c-7aaa-4690-ab5e-b3c5ef54de3c",
   "metadata": {},
   "source": [
    "#Now it is about OPERATORS"
   ]
  },
  {
   "cell_type": "code",
   "execution_count": 40,
   "id": "ddff73d3-4263-44e0-8367-df5e3af49d3e",
   "metadata": {},
   "outputs": [
    {
     "data": {
      "text/plain": [
       "97"
      ]
     },
     "execution_count": 40,
     "metadata": {},
     "output_type": "execute_result"
    }
   ],
   "source": [
    "ord(\"a\")"
   ]
  },
  {
   "cell_type": "code",
   "execution_count": 41,
   "id": "f6afca45-cec5-4de6-9795-cba9fed88aa0",
   "metadata": {},
   "outputs": [],
   "source": [
    "#ord is a function to know the UNICODE of the value."
   ]
  },
  {
   "cell_type": "code",
   "execution_count": 42,
   "id": "b40b3b3b-9c5d-42c5-80c4-5df052d5d565",
   "metadata": {},
   "outputs": [
    {
     "name": "stdout",
     "output_type": "stream",
     "text": [
      "False\n"
     ]
    }
   ],
   "source": [
    "print(-1>5>4)"
   ]
  },
  {
   "cell_type": "code",
   "execution_count": 43,
   "id": "441dd4c8-67f6-4606-9748-01b2109dd2eb",
   "metadata": {},
   "outputs": [],
   "source": [
    "#The traversing happens from right to left"
   ]
  },
  {
   "cell_type": "code",
   "execution_count": 44,
   "id": "87fd0a38-4367-4d12-8315-63a39c845d52",
   "metadata": {},
   "outputs": [],
   "source": [
    "a=10"
   ]
  },
  {
   "cell_type": "code",
   "execution_count": 45,
   "id": "56762765-8f27-44cb-95f3-f84b1b4b9bdb",
   "metadata": {},
   "outputs": [
    {
     "name": "stdout",
     "output_type": "stream",
     "text": [
      "10\n"
     ]
    }
   ],
   "source": [
    "print(++++a)"
   ]
  },
  {
   "cell_type": "code",
   "execution_count": 46,
   "id": "f03d064b-ae51-44f9-9d83-120443f5e1d5",
   "metadata": {},
   "outputs": [
    {
     "ename": "SyntaxError",
     "evalue": "invalid syntax (2230067162.py, line 1)",
     "output_type": "error",
     "traceback": [
      "\u001b[0;36m  Cell \u001b[0;32mIn [46], line 1\u001b[0;36m\u001b[0m\n\u001b[0;31m    print(a++++)\u001b[0m\n\u001b[0m               ^\u001b[0m\n\u001b[0;31mSyntaxError\u001b[0m\u001b[0;31m:\u001b[0m invalid syntax\n"
     ]
    }
   ],
   "source": [
    "print(a++++)"
   ]
  },
  {
   "cell_type": "code",
   "execution_count": 47,
   "id": "d206e152-7b77-4f98-804a-3f4068fbd834",
   "metadata": {},
   "outputs": [
    {
     "ename": "SyntaxError",
     "evalue": "invalid syntax (3412213232.py, line 1)",
     "output_type": "error",
     "traceback": [
      "\u001b[0;36m  Cell \u001b[0;32mIn [47], line 1\u001b[0;36m\u001b[0m\n\u001b[0;31m    a+++\u001b[0m\n\u001b[0m        ^\u001b[0m\n\u001b[0;31mSyntaxError\u001b[0m\u001b[0;31m:\u001b[0m invalid syntax\n"
     ]
    }
   ],
   "source": [
    "a+++"
   ]
  },
  {
   "cell_type": "code",
   "execution_count": 48,
   "id": "b80ce88f-3b9a-4188-a0a3-843888cb6786",
   "metadata": {},
   "outputs": [
    {
     "name": "stdout",
     "output_type": "stream",
     "text": [
      "11\n"
     ]
    }
   ],
   "source": [
    "print(a+1)"
   ]
  },
  {
   "cell_type": "code",
   "execution_count": 49,
   "id": "eba3a813-c2f3-425a-af65-ae96e7df7b4f",
   "metadata": {},
   "outputs": [],
   "source": [
    "a+=1"
   ]
  },
  {
   "cell_type": "code",
   "execution_count": 50,
   "id": "3f71e847-c1fc-4bbc-9883-da376069dca4",
   "metadata": {},
   "outputs": [
    {
     "data": {
      "text/plain": [
       "11"
      ]
     },
     "execution_count": 50,
     "metadata": {},
     "output_type": "execute_result"
    }
   ],
   "source": [
    "a"
   ]
  },
  {
   "cell_type": "code",
   "execution_count": 51,
   "id": "cd150a86-5b3f-4b9d-9e70-d7bf13bd7e6d",
   "metadata": {},
   "outputs": [
    {
     "ename": "SyntaxError",
     "evalue": "invalid syntax (1084821174.py, line 1)",
     "output_type": "error",
     "traceback": [
      "\u001b[0;36m  Cell \u001b[0;32mIn [51], line 1\u001b[0;36m\u001b[0m\n\u001b[0;31m    print(a+=1)\u001b[0m\n\u001b[0m           ^\u001b[0m\n\u001b[0;31mSyntaxError\u001b[0m\u001b[0;31m:\u001b[0m invalid syntax\n"
     ]
    }
   ],
   "source": [
    "print(a+=1)"
   ]
  },
  {
   "cell_type": "code",
   "execution_count": 52,
   "id": "b32a6a03-d02e-4442-91b8-55c23527cbaa",
   "metadata": {},
   "outputs": [
    {
     "name": "stdout",
     "output_type": "stream",
     "text": [
      "False\n"
     ]
    }
   ],
   "source": [
    "x,y=5,4\n",
    "print(x==y)"
   ]
  },
  {
   "cell_type": "code",
   "execution_count": 53,
   "id": "1ea2b4a2-fb50-439f-a863-07e215aaa589",
   "metadata": {},
   "outputs": [],
   "source": [
    "# WAP Ask the user to enter his/her name and enter age and display the message saying which year the person becomes 100 years"
   ]
  },
  {
   "cell_type": "code",
   "execution_count": 58,
   "id": "10bff741-59ad-47e9-9731-bc84e155eb21",
   "metadata": {},
   "outputs": [
    {
     "name": "stdin",
     "output_type": "stream",
     "text": [
      "Enter your name adu\n",
      "Enter your age 55\n"
     ]
    },
    {
     "name": "stdout",
     "output_type": "stream",
     "text": [
      "Hi adu your age is 55 and it takes 2067 to make 100 ALL D best MAN\n"
     ]
    }
   ],
   "source": [
    "name=input(\"Enter your name\")\n",
    "age = int(input(\"Enter your age\"))\n",
    "hun = 100-age;\n",
    "year = 2022 + hun\n",
    "print(\"Hi \"+ name+ \" your age is \" + str(age)+ \" and it takes \"+ str(year) + \" to make 100 ALL D best MAN\")"
   ]
  },
  {
   "cell_type": "code",
   "execution_count": 61,
   "id": "1084bb80-4941-41b3-8dcb-80728b9bfffb",
   "metadata": {},
   "outputs": [
    {
     "name": "stdin",
     "output_type": "stream",
     "text": [
      "Enter your First Name ADU\n",
      "Enter your last name V\n"
     ]
    },
    {
     "name": "stdout",
     "output_type": "stream",
     "text": [
      "V UDA\n"
     ]
    }
   ],
   "source": [
    "First_name = input(\"Enter your First Name\")\n",
    "last_name = input(\"Enter your last name\")\n",
    "name = last_name+ \" \" + First_name\n",
    "name1 = First_name + ' ' + last_name\n",
    "\n",
    "print(name1[::-1])"
   ]
  },
  {
   "cell_type": "markdown",
   "id": "3c1660fd-9f98-47f8-b7f2-71831df8c31a",
   "metadata": {},
   "source": [
    "#Conditional Statements"
   ]
  },
  {
   "cell_type": "code",
   "execution_count": 1,
   "id": "1a9394e3-d46a-45f8-a458-6b417e018479",
   "metadata": {},
   "outputs": [],
   "source": [
    "#Format Specifiers"
   ]
  },
  {
   "cell_type": "code",
   "execution_count": 4,
   "id": "12e4271f-abe3-4a22-9288-9d3ee00ce328",
   "metadata": {},
   "outputs": [
    {
     "name": "stdout",
     "output_type": "stream",
     "text": [
      "The Value of a is 10\n"
     ]
    }
   ],
   "source": [
    "a=10;\n",
    "print(\"The Value of a is %d\"%(a));"
   ]
  },
  {
   "cell_type": "code",
   "execution_count": 5,
   "id": "7e0f296c-0bfe-4321-bfcb-9491667b815e",
   "metadata": {},
   "outputs": [],
   "source": [
    "#For integers %d, string it is %s, for Float it is %f"
   ]
  },
  {
   "cell_type": "code",
   "execution_count": 6,
   "id": "a7a47695-436d-498d-ad8a-31951195d1fc",
   "metadata": {},
   "outputs": [],
   "source": [
    "#With Format funtion"
   ]
  },
  {
   "cell_type": "code",
   "execution_count": 7,
   "id": "499591bd-50ec-4069-810d-399711536ade",
   "metadata": {},
   "outputs": [
    {
     "name": "stdout",
     "output_type": "stream",
     "text": [
      "The value of a is 10\n"
     ]
    }
   ],
   "source": [
    "print(\"The value of a is {}\".format(a))"
   ]
  },
  {
   "cell_type": "code",
   "execution_count": 8,
   "id": "7c45f4de-9bd7-4529-947e-e51823ed36c1",
   "metadata": {},
   "outputs": [
    {
     "name": "stdout",
     "output_type": "stream",
     "text": [
      "Name is Adarsha and age is 26\n"
     ]
    }
   ],
   "source": [
    "name = \"Adarsha\"\n",
    "age = 26\n",
    "print(\"Name is {} and age is {}\".format(name,age))"
   ]
  },
  {
   "cell_type": "code",
   "execution_count": 9,
   "id": "1a675df1-1441-4bec-9989-c44527556695",
   "metadata": {},
   "outputs": [
    {
     "name": "stdout",
     "output_type": "stream",
     "text": [
      "Name is 26 and age is Adarsha\n"
     ]
    }
   ],
   "source": [
    "#By default format takes arguments as 0 for 1st arggument and 1 for 2nd argument\n",
    "print(\"Name is {0} and age is {1}\".format(age, name))"
   ]
  },
  {
   "cell_type": "code",
   "execution_count": 10,
   "id": "238abeac-ba9c-478e-acee-8e2e18cfeb74",
   "metadata": {},
   "outputs": [
    {
     "name": "stdout",
     "output_type": "stream",
     "text": [
      "Name is Adarsha and age is 26\n"
     ]
    }
   ],
   "source": [
    "#Here we can assign a variable for arguments like below.\n",
    "print(\"Name is {name} and age is {age}\".format(name=name, age=age))"
   ]
  },
  {
   "cell_type": "code",
   "execution_count": 11,
   "id": "bd473e30-76d6-49bf-b72b-a5f237dd814a",
   "metadata": {},
   "outputs": [],
   "source": [
    "#Decision statements"
   ]
  },
  {
   "cell_type": "code",
   "execution_count": 12,
   "id": "55d4945a-77fb-4aba-b202-aed1530f4d7d",
   "metadata": {},
   "outputs": [],
   "source": [
    "value = 40\n",
    "if (value >60):\n",
    "    print (\"FIRST CLASS\")\n",
    "if(value >85):\n",
    "    print(\"DISTINCTION\")\n"
   ]
  },
  {
   "cell_type": "code",
   "execution_count": 18,
   "id": "e9cecbba-e500-4c04-a1bd-61cddb78ce79",
   "metadata": {},
   "outputs": [
    {
     "name": "stdin",
     "output_type": "stream",
     "text": [
      "Enter any integer 5\n"
     ]
    },
    {
     "name": "stdout",
     "output_type": "stream",
     "text": [
      "the number is odd\n"
     ]
    }
   ],
   "source": [
    "#WAP to take input from user and check whether the number is even or odd\n",
    "number = int(input(\"Enter any integer\"))\n",
    "if(number%2 ==0):\n",
    "    print(\"The number is even\")\n",
    "else:\n",
    "    print(\"the number is odd\")\n",
    "\n",
    "    "
   ]
  },
  {
   "cell_type": "code",
   "execution_count": 20,
   "id": "c2ff4e71-cbeb-4677-8ff3-20bdf98c49e4",
   "metadata": {},
   "outputs": [],
   "source": [
    "#WAP to take an input from user and check whether the entered character is in uppercase or [lowercase needs to be done]"
   ]
  },
  {
   "cell_type": "code",
   "execution_count": 24,
   "id": "b1f3b31b-0524-45a9-9e23-138a0ee5fc99",
   "metadata": {},
   "outputs": [
    {
     "name": "stdin",
     "output_type": "stream",
     "text": [
      "Enter 1 number 21\n",
      "Enter 2nd Number 99\n",
      "Enter 3rd Number 21\n"
     ]
    },
    {
     "name": "stdout",
     "output_type": "stream",
     "text": [
      "99 is greatest\n"
     ]
    }
   ],
   "source": [
    "#WAP to take 3 numbers from user check which is greater \n",
    "num1 = int(input(\"Enter 1 number\"))\n",
    "num2 = int(input(\"Enter 2nd Number\"))\n",
    "num3 = int(input(\"Enter 3rd Number\"))\n",
    "if (num1 > num2):\n",
    "    if(num1>num3):\n",
    "        print(\"{0} is greatest\".format(num1))\n",
    "elif(num2>num3):\n",
    "    print(\"{0} is greatest\".format(num2))\n",
    "else:\n",
    "    print(\"{0} is greatest\".format(num3))\n",
    "    "
   ]
  },
  {
   "cell_type": "markdown",
   "id": "ab6298a4-1d32-4573-89c0-df6cbc687fd2",
   "metadata": {},
   "source": [
    "#while loop"
   ]
  },
  {
   "cell_type": "code",
   "execution_count": 31,
   "id": "7b86d036-c4d8-4e98-b6ed-3eca628fbfca",
   "metadata": {},
   "outputs": [
    {
     "name": "stdout",
     "output_type": "stream",
     "text": [
      "1\n",
      "2\n",
      "3\n",
      "4\n",
      "5\n",
      "6\n",
      "7\n",
      "8\n",
      "9\n",
      "10\n"
     ]
    }
   ],
   "source": [
    "num=1\n",
    "while (num<=10):\n",
    "    print(num)\n",
    "    num+=1\n"
   ]
  },
  {
   "cell_type": "code",
   "execution_count": 37,
   "id": "2c9fe022-b94c-4023-bef1-61284e778f3a",
   "metadata": {},
   "outputs": [
    {
     "name": "stdin",
     "output_type": "stream",
     "text": [
      "Enter any string sharada\n"
     ]
    },
    {
     "name": "stdout",
     "output_type": "stream",
     "text": [
      "s\n",
      "h\n",
      "r\n",
      "d\n",
      "I am in while else block\n"
     ]
    }
   ],
   "source": [
    "string = input(\"Enter any string\")\n",
    "i=0\n",
    "while i<=len(string)-1:\n",
    "    if string[i] not in [\"a\", \"e\", \"i\", \"o\", \"u\"]:\n",
    "        print(string[i])\n",
    "    i+=1\n",
    "else:\n",
    "    print(\"I am in while else block\")\n"
   ]
  },
  {
   "cell_type": "code",
   "execution_count": 1,
   "id": "ab106383-5338-4291-afa9-a177a8c6fcb4",
   "metadata": {},
   "outputs": [],
   "source": [
    "#Split Method"
   ]
  },
  {
   "cell_type": "code",
   "execution_count": 2,
   "id": "6815b317-3b5a-4bc3-925d-a3d6add701ac",
   "metadata": {},
   "outputs": [
    {
     "data": {
      "text/plain": [
       "['I', 'am', 'Adarsha']"
      ]
     },
     "execution_count": 2,
     "metadata": {},
     "output_type": "execute_result"
    }
   ],
   "source": [
    "text = \"I am Adarsha\"\n",
    "text.split()"
   ]
  },
  {
   "cell_type": "code",
   "execution_count": 3,
   "id": "129dab68-a5ed-4b26-8911-315045ce603f",
   "metadata": {},
   "outputs": [],
   "source": [
    "#Split takes TWO arguments split(separator, maxlimit)\n"
   ]
  },
  {
   "cell_type": "code",
   "execution_count": 4,
   "id": "28379ae7-2001-44c7-83da-bd40d8710600",
   "metadata": {},
   "outputs": [],
   "source": [
    "word1,word2,word3 = text.split(); #Output of Split is LIST"
   ]
  },
  {
   "cell_type": "code",
   "execution_count": 5,
   "id": "b0dae1cb-1168-4d74-9593-f384fb75a3bf",
   "metadata": {},
   "outputs": [
    {
     "name": "stdout",
     "output_type": "stream",
     "text": [
      "I am Adarsha\n"
     ]
    }
   ],
   "source": [
    "print(\"{0} {1} {2}\".format(word1,word2, word3))"
   ]
  },
  {
   "cell_type": "code",
   "execution_count": 9,
   "id": "2ea157e5-3135-4f78-ad37-71ad5ed7a882",
   "metadata": {},
   "outputs": [],
   "source": [
    "a,b=2,3"
   ]
  },
  {
   "cell_type": "code",
   "execution_count": 10,
   "id": "5721a535-119d-42bd-8061-ddb657f01314",
   "metadata": {},
   "outputs": [
    {
     "name": "stdout",
     "output_type": "stream",
     "text": [
      "2 3\n"
     ]
    }
   ],
   "source": [
    "print(a, b)"
   ]
  },
  {
   "cell_type": "code",
   "execution_count": 15,
   "id": "37fa6ac4-325c-4bde-9b16-347353d6a353",
   "metadata": {},
   "outputs": [
    {
     "name": "stdin",
     "output_type": "stream",
     "text": [
      "Enter First integer 12 3\n"
     ]
    },
    {
     "name": "stdout",
     "output_type": "stream",
     "text": [
      "12 3 sum is  15\n"
     ]
    }
   ],
   "source": [
    "integer1 = input(\"Enter First integer\")\n",
    "a,b = integer1.split()\n",
    "print(a, b, \"sum is \", int(a)+int(b))\n",
    "#WAP to accept input from user and write sum using split"
   ]
  },
  {
   "cell_type": "code",
   "execution_count": 21,
   "id": "7c06a54f-cb94-4fbd-815e-dbdb7d29e399",
   "metadata": {},
   "outputs": [
    {
     "name": "stdout",
     "output_type": "stream",
     "text": [
      "['1', '2', '3 4 5']\n"
     ]
    }
   ],
   "source": [
    "s1 = \"1 2 3 4 5\"\n",
    "print(s1.split(' ', 2))"
   ]
  },
  {
   "cell_type": "code",
   "execution_count": 22,
   "id": "81645b89-c442-46f4-a857-b1364d411207",
   "metadata": {},
   "outputs": [
    {
     "name": "stdout",
     "output_type": "stream",
     "text": [
      "1\n",
      "3\n",
      "5\n",
      "7\n",
      "9\n"
     ]
    }
   ],
   "source": [
    "i=0\n",
    "while(i<10):\n",
    "    if(i % 2 != 0):\n",
    "        print(i)\n",
    "    i=i+1\n"
   ]
  },
  {
   "cell_type": "code",
   "execution_count": 23,
   "id": "bd751657-c835-4900-b99a-2b60d119f1ea",
   "metadata": {},
   "outputs": [
    {
     "name": "stdout",
     "output_type": "stream",
     "text": [
      "1\n",
      "3\n",
      "5\n",
      "7\n",
      "9\n"
     ]
    }
   ],
   "source": [
    "#Break will terminate the loop \n",
    "#Continue will skip the current iteration\n",
    "num=0\n",
    "while(num < 10):\n",
    "    num = num+1\n",
    "    if(num % 2 == 0):\n",
    "        continue\n",
    "    print(num)\n",
    "    "
   ]
  },
  {
   "cell_type": "code",
   "execution_count": 27,
   "id": "da6feee0-d154-4817-8ea6-379507ff3574",
   "metadata": {},
   "outputs": [
    {
     "name": "stdout",
     "output_type": "stream",
     "text": [
      "2 4 "
     ]
    }
   ],
   "source": [
    "#Question asked in class\n",
    "i=0\n",
    "while i < 4:\n",
    "    i=i+1\n",
    "    if(i % 2 != 0):\n",
    "        pass\n",
    "        print(\"hi\", end=\" \")\n",
    "    else:\n",
    "        print(i,end = \" \")\n"
   ]
  },
  {
   "cell_type": "code",
   "execution_count": 1,
   "id": "8e02218b-ae48-42c6-abe8-d68fc918fdf3",
   "metadata": {},
   "outputs": [
    {
     "data": {
      "text/plain": [
       "'b'"
      ]
     },
     "execution_count": 1,
     "metadata": {},
     "output_type": "execute_result"
    }
   ],
   "source": [
    "x='abcdef'\n",
    "x[1]"
   ]
  },
  {
   "cell_type": "code",
   "execution_count": 3,
   "id": "ccef37e2-2344-43ae-a8ca-5a8d86a21931",
   "metadata": {},
   "outputs": [
    {
     "data": {
      "text/plain": [
       "'abcdef'"
      ]
     },
     "execution_count": 3,
     "metadata": {},
     "output_type": "execute_result"
    }
   ],
   "source": [
    "x[::]"
   ]
  },
  {
   "cell_type": "code",
   "execution_count": null,
   "id": "0c6be96c-ed15-49d7-8387-926eddd7ebd3",
   "metadata": {},
   "outputs": [],
   "source": [
    "i=0\n",
    "while i<10:\n",
    "    print(i)\n",
    "    if(i ==5):\n",
    "        continue\n",
    "    i = i+1\n"
   ]
  },
  {
   "cell_type": "code",
   "execution_count": null,
   "id": "69603869-6ffa-4da1-9afb-8a5bd3b6c210",
   "metadata": {},
   "outputs": [],
   "source": []
  },
  {
   "cell_type": "code",
   "execution_count": null,
   "id": "e37bf4ca-c2f5-4925-a528-7e9d644bab1b",
   "metadata": {},
   "outputs": [],
   "source": []
  }
 ],
 "metadata": {
  "kernelspec": {
   "display_name": "Python 3 (ipykernel)",
   "language": "python",
   "name": "python3"
  },
  "language_info": {
   "codemirror_mode": {
    "name": "ipython",
    "version": 3
   },
   "file_extension": ".py",
   "mimetype": "text/x-python",
   "name": "python",
   "nbconvert_exporter": "python",
   "pygments_lexer": "ipython3",
   "version": "3.10.6"
  }
 },
 "nbformat": 4,
 "nbformat_minor": 5
}
