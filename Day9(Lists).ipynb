{
 "cells": [
  {
   "cell_type": "code",
   "execution_count": 1,
   "id": "fee9696b-2052-4581-b652-cd845377157f",
   "metadata": {},
   "outputs": [],
   "source": [
    "#Jan 5 Lists and Strings"
   ]
  },
  {
   "cell_type": "markdown",
   "id": "fc380a82-093a-460e-95f4-1624bbabf616",
   "metadata": {},
   "source": [
    "#List is a collection of values."
   ]
  },
  {
   "cell_type": "code",
   "execution_count": 1,
   "id": "ca748e42-262d-4161-877a-6fca1ee72021",
   "metadata": {},
   "outputs": [],
   "source": [
    "mylist = [1, 2, 4, 5]"
   ]
  },
  {
   "cell_type": "code",
   "execution_count": 2,
   "id": "907efe9f-41ea-49de-b3f0-b453ec4d78b7",
   "metadata": {},
   "outputs": [
    {
     "data": {
      "text/plain": [
       "[1, 2, 4, 5]"
      ]
     },
     "execution_count": 2,
     "metadata": {},
     "output_type": "execute_result"
    }
   ],
   "source": [
    "mylist"
   ]
  },
  {
   "cell_type": "code",
   "execution_count": 3,
   "id": "4ee468b5-2c33-4f75-a757-4b63bdafc78c",
   "metadata": {},
   "outputs": [],
   "source": [
    "#List with Different data types (Heterogeneous collection)\n",
    "mylist"
   ]
  },
  {
   "cell_type": "code",
   "execution_count": 4,
   "id": "a275f196-b523-4016-a4a2-e362a7b452e1",
   "metadata": {},
   "outputs": [
    {
     "data": {
      "text/plain": [
       "[1, 'adarsha', 9663304987]"
      ]
     },
     "execution_count": 4,
     "metadata": {},
     "output_type": "execute_result"
    }
   ],
   "source": [
    "mylist"
   ]
  },
  {
   "cell_type": "markdown",
   "id": "7e6ac64c-0d95-4985-94c3-be819a0509d0",
   "metadata": {},
   "source": [
    "#list() function can be used to convert iterale objects to list. This function takes only iterable objects like string and not numbers.\n"
   ]
  },
  {
   "cell_type": "code",
   "execution_count": 6,
   "id": "5f09f5ab-97dd-4b50-a9d3-26797bd0b8b0",
   "metadata": {},
   "outputs": [
    {
     "data": {
      "text/plain": [
       "['a', 'd', 'a', 'r', 's', 'h', 'a']"
      ]
     },
     "execution_count": 6,
     "metadata": {},
     "output_type": "execute_result"
    }
   ],
   "source": [
    "list(\"adarsha\")"
   ]
  },
  {
   "cell_type": "code",
   "execution_count": 7,
   "id": "4fe8fe3c-9493-403a-97eb-87e387013925",
   "metadata": {},
   "outputs": [
    {
     "data": {
      "text/plain": [
       "[10, 20, 30]"
      ]
     },
     "execution_count": 7,
     "metadata": {},
     "output_type": "execute_result"
    }
   ],
   "source": [
    "list((10, 20, 30)) # this is tuple converting to list"
   ]
  },
  {
   "cell_type": "code",
   "execution_count": 8,
   "id": "52bae99e-7806-4834-af36-c1cd857a464a",
   "metadata": {},
   "outputs": [
    {
     "data": {
      "text/plain": [
       "[10, 29]"
      ]
     },
     "execution_count": 8,
     "metadata": {},
     "output_type": "execute_result"
    }
   ],
   "source": [
    "list([10,29])\n"
   ]
  },
  {
   "cell_type": "code",
   "execution_count": 9,
   "id": "f3c0c515-eb91-4445-8ecd-72db16fb2ebb",
   "metadata": {},
   "outputs": [],
   "source": [
    "mylist = [1,2,3, 4, 5]"
   ]
  },
  {
   "cell_type": "code",
   "execution_count": 10,
   "id": "4e0d5761-6eb9-4ccb-b789-e9d279cf3443",
   "metadata": {},
   "outputs": [
    {
     "data": {
      "text/plain": [
       "[1, 2, 3, 4, 5]"
      ]
     },
     "execution_count": 10,
     "metadata": {},
     "output_type": "execute_result"
    }
   ],
   "source": [
    "mylist"
   ]
  },
  {
   "cell_type": "code",
   "execution_count": 13,
   "id": "1464731c-53e7-43d6-8992-72fb86af111f",
   "metadata": {},
   "outputs": [
    {
     "data": {
      "text/plain": [
       "[1, 3, 5]"
      ]
     },
     "execution_count": 13,
     "metadata": {},
     "output_type": "execute_result"
    }
   ],
   "source": [
    "# Access Element of list\n",
    "mylist[1]#Indexing\n",
    "mylist[1:3] #Slicing\n",
    "mylist[::2] #In indexing there are three arguments start index, End indx, step"
   ]
  },
  {
   "cell_type": "code",
   "execution_count": 15,
   "id": "4288ef47-ef54-47e3-a056-7b1862611a09",
   "metadata": {},
   "outputs": [
    {
     "data": {
      "text/plain": [
       "3"
      ]
     },
     "execution_count": 15,
     "metadata": {},
     "output_type": "execute_result"
    }
   ],
   "source": [
    "mylist[2]"
   ]
  },
  {
   "cell_type": "code",
   "execution_count": 16,
   "id": "971c9dbf-1294-4ac7-b435-39ef9cd808f0",
   "metadata": {},
   "outputs": [
    {
     "data": {
      "text/plain": [
       "5"
      ]
     },
     "execution_count": 16,
     "metadata": {},
     "output_type": "execute_result"
    }
   ],
   "source": [
    "mylist[-1] #his is Backward indexing"
   ]
  },
  {
   "cell_type": "code",
   "execution_count": 17,
   "id": "1ad63a1d-5238-49d9-a33f-053f190c3206",
   "metadata": {},
   "outputs": [],
   "source": [
    "#Modify the existing element\n",
    "#For single value use indexing to modify the element\n",
    "sports = [\"Cricket\", \"Hockey\", \"Volleyball\"]"
   ]
  },
  {
   "cell_type": "code",
   "execution_count": 18,
   "id": "9bf1c569-ad2b-49f4-b789-e87e49a58029",
   "metadata": {},
   "outputs": [],
   "source": [
    "sports[1] = \"Athletics\" # By using Assignment operator"
   ]
  },
  {
   "cell_type": "code",
   "execution_count": 19,
   "id": "8a5bedef-2e25-4466-9f40-5d451e840348",
   "metadata": {},
   "outputs": [
    {
     "data": {
      "text/plain": [
       "['Cricket', 'Athletics', 'Volleyball']"
      ]
     },
     "execution_count": 19,
     "metadata": {},
     "output_type": "execute_result"
    }
   ],
   "source": [
    "sports"
   ]
  },
  {
   "cell_type": "code",
   "execution_count": 20,
   "id": "92e858e4-f677-4ad1-b29d-30ba93d364de",
   "metadata": {},
   "outputs": [],
   "source": [
    "#To modify multiple elements use slicing\n",
    "sports[1:3] = [\"Tennis\", \"Throwball\"]"
   ]
  },
  {
   "cell_type": "code",
   "execution_count": 21,
   "id": "00f983f4-600e-4bbb-b848-f1614406c580",
   "metadata": {},
   "outputs": [
    {
     "data": {
      "text/plain": [
       "['Cricket', 'Tennis', 'Throwball']"
      ]
     },
     "execution_count": 21,
     "metadata": {},
     "output_type": "execute_result"
    }
   ],
   "source": [
    "sports"
   ]
  },
  {
   "cell_type": "code",
   "execution_count": 23,
   "id": "99b07f91-4c6d-4945-8074-45d6d52297d9",
   "metadata": {},
   "outputs": [],
   "source": [
    "athletics =  [ 'run', 'kabadi']"
   ]
  },
  {
   "cell_type": "code",
   "execution_count": 24,
   "id": "ee030031-6951-4018-b7bd-94266080fbaf",
   "metadata": {},
   "outputs": [],
   "source": [
    "all_sports = sports + athletics"
   ]
  },
  {
   "cell_type": "code",
   "execution_count": 25,
   "id": "8f4a4f88-75d6-442c-beda-95d28f6195b6",
   "metadata": {},
   "outputs": [
    {
     "data": {
      "text/plain": [
       "['Cricket', 'Tennis', 'Throwball', 'run', 'kabadi']"
      ]
     },
     "execution_count": 25,
     "metadata": {},
     "output_type": "execute_result"
    }
   ],
   "source": [
    "all_sports"
   ]
  },
  {
   "cell_type": "code",
   "execution_count": 26,
   "id": "808a3e83-83a5-496a-a644-49e676dbbd1b",
   "metadata": {},
   "outputs": [
    {
     "data": {
      "text/plain": [
       "2"
      ]
     },
     "execution_count": 26,
     "metadata": {},
     "output_type": "execute_result"
    }
   ],
   "source": [
    "len(athletics)"
   ]
  },
  {
   "cell_type": "code",
   "execution_count": 28,
   "id": "69a9ee9c-0e08-4cd0-aee0-596cb1df0123",
   "metadata": {},
   "outputs": [
    {
     "data": {
      "text/plain": [
       "['run', 'kabadi', 'jump']"
      ]
     },
     "execution_count": 28,
     "metadata": {},
     "output_type": "execute_result"
    }
   ],
   "source": [
    "athletics + [\"jump\"]"
   ]
  },
  {
   "cell_type": "code",
   "execution_count": 30,
   "id": "c327ca07-4baf-4de7-ad7a-bac3c3b7dfc4",
   "metadata": {},
   "outputs": [
    {
     "data": {
      "text/plain": [
       "['run', 'kabadi', 'run', 'kabadi', 'run', 'kabadi']"
      ]
     },
     "execution_count": 30,
     "metadata": {},
     "output_type": "execute_result"
    }
   ],
   "source": [
    "athletics *3"
   ]
  },
  {
   "cell_type": "markdown",
   "id": "e29d787d-aff9-449c-a0d5-3e0e30a36a09",
   "metadata": {},
   "source": [
    "# Membership operator"
   ]
  },
  {
   "cell_type": "code",
   "execution_count": 36,
   "id": "a0651950-2270-4dfa-ac3f-efb4b2bd822a",
   "metadata": {},
   "outputs": [
    {
     "data": {
      "text/plain": [
       "True"
      ]
     },
     "execution_count": 36,
     "metadata": {},
     "output_type": "execute_result"
    }
   ],
   "source": [
    "\"kabadi\" in athletics\n",
    "\"shooting\" not in athletics"
   ]
  },
  {
   "cell_type": "markdown",
   "id": "e661da08-3dd7-473d-958b-51e841f646ff",
   "metadata": {},
   "source": [
    "# List function and List Methods"
   ]
  },
  {
   "cell_type": "markdown",
   "id": "a677c0ff-c9d4-402e-88b1-52ad620f0111",
   "metadata": {},
   "source": [
    "# List Function"
   ]
  },
  {
   "cell_type": "raw",
   "id": "abcbd1a9-7721-4892-90da-e9b76f7317f3",
   "metadata": {},
   "source": [
    "1. len()\n",
    "2. max()\n",
    "3. min()\n",
    "4. sum()\n",
    "5. sorted()\n",
    "6. any()\n",
    "7. all()\n",
    "8. list()\n"
   ]
  },
  {
   "cell_type": "markdown",
   "id": "fd84c2a3-1ab4-4af1-8430-5f5f66306149",
   "metadata": {},
   "source": [
    "# List Methods"
   ]
  },
  {
   "cell_type": "raw",
   "id": "614a2b0c-a7bd-48fd-ba83-a4a804cbc78a",
   "metadata": {},
   "source": [
    "1. append()\n",
    "2. extend()\n",
    "3. reverse()\n",
    "4. insert()\n",
    "5. index()\n",
    "6. count()\n",
    "7. remove()\n",
    "8. clear()\n",
    "9. pop()"
   ]
  },
  {
   "cell_type": "markdown",
   "id": "d12f4fa2-1359-409a-b2cb-392af81091e8",
   "metadata": {},
   "source": [
    "# List Comprehension"
   ]
  },
  {
   "cell_type": "code",
   "execution_count": 39,
   "id": "3d7ca96e-b2ac-4afa-89b9-a6dffba8aa04",
   "metadata": {},
   "outputs": [
    {
     "data": {
      "text/plain": [
       "7"
      ]
     },
     "execution_count": 39,
     "metadata": {},
     "output_type": "execute_result"
    }
   ],
   "source": [
    "mynums = [1,2,3,4,5,6,7]\n",
    "len(mynums) # Len function provides length of list"
   ]
  },
  {
   "cell_type": "code",
   "execution_count": 46,
   "id": "e41e9ab0-767f-4198-bb94-6d50e1027433",
   "metadata": {},
   "outputs": [
    {
     "data": {
      "text/plain": [
       "[7, 6, 5, 4, 3, 2, 1]"
      ]
     },
     "execution_count": 46,
     "metadata": {},
     "output_type": "execute_result"
    }
   ],
   "source": [
    "max(mynums) # provides maximum number\n",
    "min(mynums) # provides minimum\n",
    "sum(mynums) # provides the sum of list\n",
    "sorted(mynums) #Ascending order sort\n",
    "sorted(mynums, reverse=True) #Descending Order sort"
   ]
  },
  {
   "cell_type": "code",
   "execution_count": 49,
   "id": "a747406e-069e-49c4-8911-7ee5c0596e32",
   "metadata": {},
   "outputs": [
    {
     "data": {
      "text/plain": [
       "False"
      ]
     },
     "execution_count": 49,
     "metadata": {},
     "output_type": "execute_result"
    }
   ],
   "source": [
    "all(mynums) # IF all the elements is true it will give the Output true otherwise false\n",
    "num2 = [0,1,9, 7,2]\n",
    "all(num2)"
   ]
  },
  {
   "cell_type": "code",
   "execution_count": 50,
   "id": "d8d43fbe-2ddf-462d-a0b4-11fd7fffd4d1",
   "metadata": {},
   "outputs": [
    {
     "data": {
      "text/plain": [
       "True"
      ]
     },
     "execution_count": 50,
     "metadata": {},
     "output_type": "execute_result"
    }
   ],
   "source": [
    "any(num2) # if there are any true values Output will b True, if all false values are present Output will b false"
   ]
  },
  {
   "cell_type": "code",
   "execution_count": 57,
   "id": "01a2118e-3eb7-433f-8be2-4f0d2030087f",
   "metadata": {},
   "outputs": [],
   "source": [
    "ex = [2, 3,5, 7, 11]\n",
    "ex.append(13)\n"
   ]
  },
  {
   "cell_type": "code",
   "execution_count": 58,
   "id": "08967e56-8969-4a51-9990-a7629e572f43",
   "metadata": {},
   "outputs": [
    {
     "data": {
      "text/plain": [
       "[2, 3, 5, 7, 11, 13]"
      ]
     },
     "execution_count": 58,
     "metadata": {},
     "output_type": "execute_result"
    }
   ],
   "source": [
    "ex"
   ]
  },
  {
   "cell_type": "code",
   "execution_count": 59,
   "id": "9ccf7dde-7fbf-4744-8023-be9ba3a81bf9",
   "metadata": {},
   "outputs": [],
   "source": [
    "ex1 = [4, 6, 8]"
   ]
  },
  {
   "cell_type": "code",
   "execution_count": 63,
   "id": "7c6783c6-14a0-485b-9c8a-e7381bc58222",
   "metadata": {},
   "outputs": [
    {
     "data": {
      "text/plain": [
       "[2, 3, 5, 7, 11, 13, [4, 6, 8], 4, 6, 8]"
      ]
     },
     "execution_count": 63,
     "metadata": {},
     "output_type": "execute_result"
    }
   ],
   "source": [
    "ex + ex1"
   ]
  },
  {
   "cell_type": "code",
   "execution_count": 61,
   "id": "753d67fb-2664-421b-b128-c99353732816",
   "metadata": {},
   "outputs": [],
   "source": [
    "ex.append(ex1)"
   ]
  },
  {
   "cell_type": "code",
   "execution_count": 64,
   "id": "8fbaa765-e71a-4123-9416-8d6a5fc728b0",
   "metadata": {},
   "outputs": [
    {
     "data": {
      "text/plain": [
       "[2, 3, 5, 7, 11, 13, [4, 6, 8]]"
      ]
     },
     "execution_count": 64,
     "metadata": {},
     "output_type": "execute_result"
    }
   ],
   "source": [
    "ex\n"
   ]
  },
  {
   "cell_type": "code",
   "execution_count": 65,
   "id": "8dcba800-c3e9-4a29-927b-aea7cb93ac55",
   "metadata": {},
   "outputs": [],
   "source": [
    "ex.extend(ex1) #it is a method "
   ]
  },
  {
   "cell_type": "code",
   "execution_count": 66,
   "id": "f82fd24a-d346-4d72-a0ba-5004b975abb4",
   "metadata": {},
   "outputs": [
    {
     "data": {
      "text/plain": [
       "[2, 3, 5, 7, 11, 13, [4, 6, 8], 4, 6, 8]"
      ]
     },
     "execution_count": 66,
     "metadata": {},
     "output_type": "execute_result"
    }
   ],
   "source": [
    "ex"
   ]
  },
  {
   "cell_type": "code",
   "execution_count": 67,
   "id": "866791c8-23f9-4ea0-a3e4-d9a9d6d22f03",
   "metadata": {},
   "outputs": [
    {
     "data": {
      "text/plain": [
       "10"
      ]
     },
     "execution_count": 67,
     "metadata": {},
     "output_type": "execute_result"
    }
   ],
   "source": [
    "len(ex)"
   ]
  },
  {
   "cell_type": "code",
   "execution_count": 70,
   "id": "2cda8685-b5ae-497d-9bec-be99e61d16bd",
   "metadata": {},
   "outputs": [
    {
     "data": {
      "text/plain": [
       "4"
      ]
     },
     "execution_count": 70,
     "metadata": {},
     "output_type": "execute_result"
    }
   ],
   "source": [
    "ex[6][0] #Nesting Index"
   ]
  },
  {
   "cell_type": "code",
   "execution_count": 71,
   "id": "db2d98a0-e5f4-48a1-969c-c989a692b4b9",
   "metadata": {},
   "outputs": [],
   "source": [
    "animals = ['cat', 'rat', 'chat']"
   ]
  },
  {
   "cell_type": "markdown",
   "id": "18f88323-ab24-469f-a9e5-41098a1dc6d9",
   "metadata": {},
   "source": [
    "# Insert(index, value)"
   ]
  },
  {
   "cell_type": "code",
   "execution_count": 72,
   "id": "c0df1d6d-978f-49a1-b1aa-c67110be8aa3",
   "metadata": {},
   "outputs": [],
   "source": [
    "animals.insert(1, \"Bat\")"
   ]
  },
  {
   "cell_type": "code",
   "execution_count": 73,
   "id": "2df9dbb4-1587-4ca3-ae52-62b0bd6fc305",
   "metadata": {},
   "outputs": [
    {
     "data": {
      "text/plain": [
       "['cat', 'Bat', 'rat', 'chat']"
      ]
     },
     "execution_count": 73,
     "metadata": {},
     "output_type": "execute_result"
    }
   ],
   "source": [
    "animals"
   ]
  },
  {
   "cell_type": "markdown",
   "id": "e5711bd4-49c9-4250-a919-00fe201e920d",
   "metadata": {},
   "source": [
    "# Count Method"
   ]
  },
  {
   "cell_type": "code",
   "execution_count": 74,
   "id": "8f6b04d9-3807-4470-8eb8-317e749df28b",
   "metadata": {},
   "outputs": [
    {
     "data": {
      "text/plain": [
       "1"
      ]
     },
     "execution_count": 74,
     "metadata": {},
     "output_type": "execute_result"
    }
   ],
   "source": [
    "animals.count(\"Bat\") # Gives the number of times the mentioned value is present in List"
   ]
  },
  {
   "cell_type": "markdown",
   "id": "4fd4b981-8d2b-4e9a-a577-afed75208918",
   "metadata": {},
   "source": [
    "# Index Method"
   ]
  },
  {
   "cell_type": "code",
   "execution_count": 77,
   "id": "680031df-8fb7-419b-a710-effba49e44ff",
   "metadata": {},
   "outputs": [
    {
     "data": {
      "text/plain": [
       "3"
      ]
     },
     "execution_count": 77,
     "metadata": {},
     "output_type": "execute_result"
    }
   ],
   "source": [
    "mynums.index(4)"
   ]
  },
  {
   "cell_type": "code",
   "execution_count": 75,
   "id": "f051e9b7-6bc8-4178-837a-bf422c33ba45",
   "metadata": {},
   "outputs": [
    {
     "data": {
      "text/plain": [
       "[1, 2, 3, 4, 5, 6, 7]"
      ]
     },
     "execution_count": 75,
     "metadata": {},
     "output_type": "execute_result"
    }
   ],
   "source": [
    "mynums"
   ]
  },
  {
   "cell_type": "code",
   "execution_count": 79,
   "id": "9bd9dc7d-c510-4ca5-a0fc-652503953b5d",
   "metadata": {},
   "outputs": [
    {
     "ename": "ValueError",
     "evalue": "23 is not in list",
     "output_type": "error",
     "traceback": [
      "\u001b[0;31m---------------------------------------------------------------------------\u001b[0m",
      "\u001b[0;31mValueError\u001b[0m                                Traceback (most recent call last)",
      "Cell \u001b[0;32mIn [79], line 1\u001b[0m\n\u001b[0;32m----> 1\u001b[0m \u001b[43mmynums\u001b[49m\u001b[38;5;241;43m.\u001b[39;49m\u001b[43mindex\u001b[49m\u001b[43m(\u001b[49m\u001b[38;5;241;43m23\u001b[39;49m\u001b[43m)\u001b[49m\n",
      "\u001b[0;31mValueError\u001b[0m: 23 is not in list"
     ]
    }
   ],
   "source": [
    "mynums.index(23)"
   ]
  },
  {
   "cell_type": "markdown",
   "id": "4eff0c01-00f0-4f28-aa3a-d16573cd933f",
   "metadata": {},
   "source": [
    "# Remove Method"
   ]
  },
  {
   "cell_type": "code",
   "execution_count": 80,
   "id": "cdcee2d1-245f-4dac-ba7d-fc55d8878cec",
   "metadata": {},
   "outputs": [],
   "source": [
    "vowels = ['a', 'e', 'i', 'a']"
   ]
  },
  {
   "cell_type": "code",
   "execution_count": 81,
   "id": "1b6e52bf-75f8-48ee-b2ae-864a2fd75cfe",
   "metadata": {},
   "outputs": [],
   "source": [
    "vowels.remove(\"a\") #searches for the mentioned string and removes it and removes only first Occurence of the matching"
   ]
  },
  {
   "cell_type": "code",
   "execution_count": 82,
   "id": "b1964e9f-ef6b-4e66-b0e9-ab668666a61a",
   "metadata": {},
   "outputs": [
    {
     "data": {
      "text/plain": [
       "['e', 'i', 'a']"
      ]
     },
     "execution_count": 82,
     "metadata": {},
     "output_type": "execute_result"
    }
   ],
   "source": [
    "vowels"
   ]
  },
  {
   "cell_type": "markdown",
   "id": "73875596-d10c-4a03-8b15-642595714255",
   "metadata": {},
   "source": [
    "# POP Method "
   ]
  },
  {
   "cell_type": "code",
   "execution_count": 83,
   "id": "a80c5084-30fb-45a9-b95d-fa81760ce9b0",
   "metadata": {},
   "outputs": [],
   "source": [
    "# Pop Method takes index and remove it fri list and returns the same"
   ]
  },
  {
   "cell_type": "code",
   "execution_count": 84,
   "id": "b6c796aa-5788-4a71-88da-bdd7af75679f",
   "metadata": {},
   "outputs": [
    {
     "data": {
      "text/plain": [
       "['e', 'i', 'a']"
      ]
     },
     "execution_count": 84,
     "metadata": {},
     "output_type": "execute_result"
    }
   ],
   "source": [
    "vowels"
   ]
  },
  {
   "cell_type": "code",
   "execution_count": 85,
   "id": "f00a5150-fc0d-431b-a5e9-8a97f8e11de6",
   "metadata": {},
   "outputs": [
    {
     "data": {
      "text/plain": [
       "'i'"
      ]
     },
     "execution_count": 85,
     "metadata": {},
     "output_type": "execute_result"
    }
   ],
   "source": [
    "vowels.pop(1)"
   ]
  },
  {
   "cell_type": "code",
   "execution_count": 86,
   "id": "433141ea-e7bf-440e-b794-d9efb3806c4b",
   "metadata": {},
   "outputs": [
    {
     "data": {
      "text/plain": [
       "['e', 'a']"
      ]
     },
     "execution_count": 86,
     "metadata": {},
     "output_type": "execute_result"
    }
   ],
   "source": [
    "vowels"
   ]
  },
  {
   "cell_type": "code",
   "execution_count": 87,
   "id": "0f42d158-a4f6-4ec4-b0a7-d3fb2a753698",
   "metadata": {},
   "outputs": [
    {
     "ename": "IndexError",
     "evalue": "pop index out of range",
     "output_type": "error",
     "traceback": [
      "\u001b[0;31m---------------------------------------------------------------------------\u001b[0m",
      "\u001b[0;31mIndexError\u001b[0m                                Traceback (most recent call last)",
      "Cell \u001b[0;32mIn [87], line 1\u001b[0m\n\u001b[0;32m----> 1\u001b[0m \u001b[43mvowels\u001b[49m\u001b[38;5;241;43m.\u001b[39;49m\u001b[43mpop\u001b[49m\u001b[43m(\u001b[49m\u001b[38;5;241;43m3\u001b[39;49m\u001b[43m)\u001b[49m\n",
      "\u001b[0;31mIndexError\u001b[0m: pop index out of range"
     ]
    }
   ],
   "source": [
    "vowels.pop(3) # if the given index is Outp of range it will throw a error."
   ]
  },
  {
   "cell_type": "code",
   "execution_count": 88,
   "id": "5b483db7-0b1c-429f-baff-ba14a2546514",
   "metadata": {},
   "outputs": [],
   "source": [
    "vowels.clear() #CLEAR Method clears entire list"
   ]
  },
  {
   "cell_type": "code",
   "execution_count": 89,
   "id": "b4924ec7-65f9-4b22-b313-d14d8972534f",
   "metadata": {},
   "outputs": [
    {
     "data": {
      "text/plain": [
       "[]"
      ]
     },
     "execution_count": 89,
     "metadata": {},
     "output_type": "execute_result"
    }
   ],
   "source": [
    "vowels"
   ]
  },
  {
   "cell_type": "code",
   "execution_count": 90,
   "id": "cf4c9a53-87cf-4681-9edb-d96406f99dc9",
   "metadata": {},
   "outputs": [
    {
     "data": {
      "text/plain": [
       "[1, 2, 3, 4, 5, 6, 7]"
      ]
     },
     "execution_count": 90,
     "metadata": {},
     "output_type": "execute_result"
    }
   ],
   "source": [
    "mynums"
   ]
  },
  {
   "cell_type": "code",
   "execution_count": 91,
   "id": "3cacae6a-b693-4f48-a4de-e28713e48665",
   "metadata": {},
   "outputs": [],
   "source": [
    "mynums.append(23)"
   ]
  },
  {
   "cell_type": "code",
   "execution_count": 92,
   "id": "099082fa-2f02-4dfc-a55d-2d76567c6ee3",
   "metadata": {},
   "outputs": [],
   "source": [
    "mynums.extend([12, 20, 19])"
   ]
  },
  {
   "cell_type": "code",
   "execution_count": 93,
   "id": "5044725b-8dec-44c9-83b9-46355b340281",
   "metadata": {},
   "outputs": [
    {
     "data": {
      "text/plain": [
       "[1, 2, 3, 4, 5, 6, 7, 23, 12, 20, 19]"
      ]
     },
     "execution_count": 93,
     "metadata": {},
     "output_type": "execute_result"
    }
   ],
   "source": [
    "mynums"
   ]
  },
  {
   "cell_type": "code",
   "execution_count": 94,
   "id": "8841427b-2f4a-44f7-8766-cd055e2cff21",
   "metadata": {},
   "outputs": [],
   "source": [
    "mynums.sort() # Sorting List "
   ]
  },
  {
   "cell_type": "code",
   "execution_count": 95,
   "id": "dbd37bcc-967a-419f-92ef-c8489dcb0bfd",
   "metadata": {},
   "outputs": [
    {
     "data": {
      "text/plain": [
       "[1, 2, 3, 4, 5, 6, 7, 12, 19, 20, 23]"
      ]
     },
     "execution_count": 95,
     "metadata": {},
     "output_type": "execute_result"
    }
   ],
   "source": [
    "mynums"
   ]
  },
  {
   "cell_type": "code",
   "execution_count": 96,
   "id": "49808862-3e0d-4317-a925-6c6d331f350e",
   "metadata": {},
   "outputs": [],
   "source": [
    "mynums.reverse()"
   ]
  },
  {
   "cell_type": "code",
   "execution_count": 97,
   "id": "0a234bd8-b00f-4408-84da-850e9c3529b4",
   "metadata": {},
   "outputs": [
    {
     "data": {
      "text/plain": [
       "[23, 20, 19, 12, 7, 6, 5, 4, 3, 2, 1]"
      ]
     },
     "execution_count": 97,
     "metadata": {},
     "output_type": "execute_result"
    }
   ],
   "source": [
    "mynums"
   ]
  },
  {
   "cell_type": "code",
   "execution_count": 98,
   "id": "e1536944-96a8-4161-b96e-fe31081f5ae0",
   "metadata": {},
   "outputs": [
    {
     "data": {
      "text/plain": [
       "[23, 20, 19, 12, 7, 6, 5, 4, 3, 2, 1]"
      ]
     },
     "execution_count": 98,
     "metadata": {},
     "output_type": "execute_result"
    }
   ],
   "source": [
    "mynums"
   ]
  },
  {
   "cell_type": "code",
   "execution_count": 107,
   "id": "efd5b51f-26ba-4f93-ac58-ecfc1cdea6df",
   "metadata": {},
   "outputs": [
    {
     "name": "stdout",
     "output_type": "stream",
     "text": [
      "23\n",
      "20\n",
      "19\n",
      "12\n",
      "7\n",
      "6\n",
      "5\n",
      "4\n",
      "3\n",
      "2\n",
      "1\n"
     ]
    }
   ],
   "source": [
    "# Parsing List elements using while loop\n",
    "i =0\n",
    "while( i<len(mynums)):\n",
    "    print(mynums[i])\n",
    "    i = i+1\n"
   ]
  },
  {
   "cell_type": "code",
   "execution_count": 109,
   "id": "4de459e3-4785-4c00-bce2-cfeed84fffc2",
   "metadata": {},
   "outputs": [
    {
     "name": "stdout",
     "output_type": "stream",
     "text": [
      "23\n",
      "20\n",
      "19\n",
      "12\n",
      "7\n",
      "6\n",
      "5\n",
      "4\n",
      "3\n",
      "2\n",
      "1\n"
     ]
    }
   ],
   "source": [
    "for i in mynums:\n",
    "    print(i)\n"
   ]
  },
  {
   "cell_type": "code",
   "execution_count": null,
   "id": "75fa013e-8626-410f-8312-db8118b8eb5a",
   "metadata": {},
   "outputs": [],
   "source": [
    "# WAP to accept a 5 integers from user and store them in list, Display them and theeir sum\n",
    "# WAP to accept 5 unique integers, Make sure if the integer is being entered is already present in the list your code displays the message \"Item already present in the list\" and ask the user to reenter the integer.\n",
    "# WAP to accept 2 lists from user 5 nos each assume each list will have unique nos now find out how many lists are common.\n",
    "# Rewrite he previous code so that your code  also deisplays the items which are common in both the lists."
   ]
  }
 ],
 "metadata": {
  "kernelspec": {
   "display_name": "Python 3 (ipykernel)",
   "language": "python",
   "name": "python3"
  },
  "language_info": {
   "codemirror_mode": {
    "name": "ipython",
    "version": 3
   },
   "file_extension": ".py",
   "mimetype": "text/x-python",
   "name": "python",
   "nbconvert_exporter": "python",
   "pygments_lexer": "ipython3",
   "version": "3.10.6"
  }
 },
 "nbformat": 4,
 "nbformat_minor": 5
}
